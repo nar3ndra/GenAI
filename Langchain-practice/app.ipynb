{
 "cells": [
  {
   "cell_type": "code",
   "execution_count": 2,
   "metadata": {},
   "outputs": [],
   "source": [
    "from langchain_google_genai import ChatGoogleGenerativeAI\n",
    "from langchain_openai import ChatOpenAI\n",
    "#from langchain_openai import ChatOpenAI\n",
    "from langchain_ollama import ChatOllama\n",
    "from dotenv import load_dotenv\n",
    "import os"
   ]
  },
  {
   "cell_type": "code",
   "execution_count": 42,
   "metadata": {},
   "outputs": [],
   "source": [
    "if load_dotenv() is False:\n",
    "    print(\"Warning: .env file not found\")\n",
    "load_dotenv()\n",
    "GOOGLE_API_KEY = os.getenv('GOOGLE_API_KEY')\n",
    "OPENAI_API_KEY = os.getenv('OPENAI_API_KEY')"
   ]
  },
  {
   "cell_type": "code",
   "execution_count": 7,
   "metadata": {},
   "outputs": [],
   "source": [
    "#gemini_llm = ChatGoogleGenerativeAI(model=\"gemini-1.5-flash-latest\", google_api_key=GOOGLE_API_KEY)\n",
    "#gpt_llm = ChatOpenAI(model=\"gpt-3.5-turbo\", api_key=OPENAI_API_KEY)\n",
    "\n",
    "#model = ChatOpenAI(model=\"gpt-3.5-turbo\")\n",
    "gemma_llm = ChatOllama(model=\"gemma:2b\")"
   ]
  },
  {
   "cell_type": "code",
   "execution_count": 8,
   "metadata": {},
   "outputs": [
    {
     "data": {
      "text/plain": [
       "AIMessage(content='I am a large language model, trained by Google. I am a conversational AI that can understand and respond to your questions and requests in a comprehensive and informative way. \\n\\nI am still under development, but I am able to learn and grow from my interactions with you. I am excited to see how I can assist you in the future.', additional_kwargs={}, response_metadata={'model': 'gemma:2b', 'created_at': '2025-01-09T16:19:14.5955177Z', 'done': True, 'done_reason': 'stop', 'total_duration': 9241063300, 'load_duration': 1794443800, 'prompt_eval_count': 26, 'prompt_eval_duration': 1032000000, 'eval_count': 70, 'eval_duration': 6404000000, 'message': Message(role='assistant', content='', images=None, tool_calls=None)}, id='run-5e929fea-2eda-47e4-a7f2-f3d5c3e8d1a4-0', usage_metadata={'input_tokens': 26, 'output_tokens': 70, 'total_tokens': 96})"
      ]
     },
     "execution_count": 8,
     "metadata": {},
     "output_type": "execute_result"
    }
   ],
   "source": [
    "#gemini_llm.invoke(\"who developed  you ?\")\n",
    "gemma_llm.invoke(\"who are you ?\")"
   ]
  },
  {
   "cell_type": "code",
   "execution_count": 9,
   "metadata": {},
   "outputs": [
    {
     "name": "stderr",
     "output_type": "stream",
     "text": [
      "2025-01-09 11:29:02.827 WARNING streamlit.runtime.scriptrunner_utils.script_run_context: Thread 'MainThread': missing ScriptRunContext! This warning can be ignored when running in bare mode.\n",
      "2025-01-09 11:29:03.221 \n",
      "  \u001b[33m\u001b[1mWarning:\u001b[0m to view this Streamlit app on a browser, run it with the following\n",
      "  command:\n",
      "\n",
      "    streamlit run c:\\GenAI\\venv\\Lib\\site-packages\\ipykernel_launcher.py [ARGUMENTS]\n",
      "2025-01-09 11:29:03.221 Thread 'MainThread': missing ScriptRunContext! This warning can be ignored when running in bare mode.\n",
      "2025-01-09 11:29:03.221 Thread 'MainThread': missing ScriptRunContext! This warning can be ignored when running in bare mode.\n",
      "2025-01-09 11:29:03.221 Thread 'MainThread': missing ScriptRunContext! This warning can be ignored when running in bare mode.\n",
      "2025-01-09 11:29:03.221 Thread 'MainThread': missing ScriptRunContext! This warning can be ignored when running in bare mode.\n",
      "2025-01-09 11:29:03.232 Thread 'MainThread': missing ScriptRunContext! This warning can be ignored when running in bare mode.\n",
      "2025-01-09 11:29:03.232 Session state does not function when running a script without `streamlit run`\n",
      "2025-01-09 11:29:03.234 Thread 'MainThread': missing ScriptRunContext! This warning can be ignored when running in bare mode.\n",
      "2025-01-09 11:29:03.234 Thread 'MainThread': missing ScriptRunContext! This warning can be ignored when running in bare mode.\n"
     ]
    }
   ],
   "source": [
    "import streamlit as st\n",
    "st.title(\"First chatbot using gemma:2b\")\n",
    "\n",
    "question = st.text_input(\"your question\")\n",
    "\n",
    "if question:\n",
    "    response = gemma_llm.invoke(question)\n",
    "    st.write(response.content)"
   ]
  }
 ],
 "metadata": {
  "kernelspec": {
   "display_name": "Python 3",
   "language": "python",
   "name": "python3"
  },
  "language_info": {
   "codemirror_mode": {
    "name": "ipython",
    "version": 3
   },
   "file_extension": ".py",
   "mimetype": "text/x-python",
   "name": "python",
   "nbconvert_exporter": "python",
   "pygments_lexer": "ipython3",
   "version": "3.12.8"
  }
 },
 "nbformat": 4,
 "nbformat_minor": 2
}
